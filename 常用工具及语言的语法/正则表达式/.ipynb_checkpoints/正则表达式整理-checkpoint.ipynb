{
 "cells": [
  {
   "cell_type": "code",
   "execution_count": null,
   "metadata": {
    "collapsed": true
   },
   "outputs": [],
   "source": [
    "import re\n",
    "\n",
    "'''正则表达式是从后向前匹配的，这是默认的贪婪匹配模式，若想从前往后匹配则需要在对应的位置加上？'''\n",
    "# line = 'ksssssssssssssskkkhhyl112'\n",
    "# regex_str = '.*?(k.*?k).*'\n",
    "# regex_str = '.*?(k.*k).*'\n",
    "# regex_str = '.*(k.*k).*'\n",
    "# line = '现在日期：2018年8月21日'\n",
    "# line = '现在日期：2018-8-21'\n",
    "# line = '现在日期：2018-08-21'\n",
    "# line = '现在日期：2018/8/21'\n",
    "# line = '现在日期：2018-8'\n",
    "\n",
    "regex_str = r'.*?(\\d+[年/\\-]\\d+([月\\-/]\\d+|$))'\n",
    "\n",
    "match_obj = re.match(regex_str, line)\n",
    "if match_obj:\n",
    "    print(match_obj.group(1))"
   ]
  },
  {
   "cell_type": "code",
   "execution_count": null,
   "metadata": {
    "collapsed": true
   },
   "outputs": [],
   "source": []
  }
 ],
 "metadata": {
  "kernelspec": {
   "display_name": "Python 3",
   "language": "python",
   "name": "python3"
  },
  "language_info": {
   "codemirror_mode": {
    "name": "ipython",
    "version": 3
   },
   "file_extension": ".py",
   "mimetype": "text/x-python",
   "name": "python",
   "nbconvert_exporter": "python",
   "pygments_lexer": "ipython3",
   "version": "3.6.3"
  }
 },
 "nbformat": 4,
 "nbformat_minor": 2
}
