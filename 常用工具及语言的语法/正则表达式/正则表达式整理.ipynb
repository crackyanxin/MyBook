{
 "cells": [
  {
   "cell_type": "code",
   "execution_count": 5,
   "metadata": {
    "collapsed": true
   },
   "outputs": [
    {
     "name": "stdout",
     "output_type": "stream",
     "text": [
      "2018-8\n"
     ]
    }
   ],
   "source": [
    "import re\n",
    "\n",
    "'''正则表达式是从后向前匹配的，这是默认的贪婪匹配模式，若想从前往后匹配则需要在对应的位置加上？'''\n",
    "# line = 'ksssssssssssssskkkhhyl112'\n",
    "# regex_str = '.*?(k.*?k).*'\n",
    "# regex_str = '.*?(k.*k).*'\n",
    "# regex_str = '.*(k.*k).*'\n",
    "# line = '现在日期：2018年8月21日'\n",
    "# line = '现在日期：2018-8-21'\n",
    "# line = '现在日期：2018-08-21'\n",
    "# line = '现在日期：2018/8/21'\n",
    "line = '现在日期：2018-8'\n",
    "\n",
    "regex_str = r'.*?(\\d+[年/\\-]\\d+([月\\-/]\\d+|$))'\n",
    "\n",
    "match_obj = re.match(regex_str, line)\n",
    "if match_obj:\n",
    "    print(match_obj.group(1))"
   ]
  },
  {
   "cell_type": "code",
   "execution_count": 9,
   "metadata": {
    "collapsed": true
   },
   "outputs": [
    {
     "name": "stdout",
     "output_type": "stream",
     "text": [
      "the sum of 7 and 9 is 16.\n",
      "the sum of 7 and 9 is 97.\n"
     ]
    }
   ],
   "source": [
    "s = \"the sum of 7 and 9 is [7+9].\"\n",
    "\n",
    "# 基本用法 将目标替换为固定字符串\n",
    "print(re.sub(r'\\[7\\+9\\]', '16', s))\n",
    "# output> the sum of 7 and 9 is 16.\n",
    "\n",
    "# 高级用法 1 使用前面匹配的到的内容 \\1 代表 pattern 中捕获到的第一个分组的内容\n",
    "print(re.sub('\\\\[(7)\\+(9)\\\\]', r'\\2\\1', s))\n",
    "# output> the sum of 7 and 9 is 97."
   ]
  }
 ],
 "metadata": {
  "kernelspec": {
   "display_name": "Python 3",
   "language": "python",
   "name": "python3"
  },
  "language_info": {
   "codemirror_mode": {
    "name": "ipython",
    "version": 3
   },
   "file_extension": ".py",
   "mimetype": "text/x-python",
   "name": "python",
   "nbconvert_exporter": "python",
   "pygments_lexer": "ipython3",
   "version": "3.6.3"
  }
 },
 "nbformat": 4,
 "nbformat_minor": 2
}
